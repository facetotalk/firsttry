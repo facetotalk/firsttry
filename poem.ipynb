{
  "nbformat": 4,
  "nbformat_minor": 0,
  "metadata": {
    "colab": {
      "name": "poem.ipynb",
      "provenance": [],
      "authorship_tag": "ABX9TyM0KsonxQmzOWaKlfvOrtix",
      "include_colab_link": true
    },
    "kernelspec": {
      "name": "python3",
      "display_name": "Python 3"
    },
    "language_info": {
      "name": "python"
    }
  },
  "cells": [
    {
      "cell_type": "markdown",
      "metadata": {
        "id": "view-in-github",
        "colab_type": "text"
      },
      "source": [
        "<a href=\"https://colab.research.google.com/github/facetotalk/firsttry/blob/main/poem.ipynb\" target=\"_parent\"><img src=\"https://colab.research.google.com/assets/colab-badge.svg\" alt=\"Open In Colab\"/></a>"
      ]
    },
    {
      "cell_type": "code",
      "metadata": {
        "colab": {
          "base_uri": "https://localhost:8080/"
        },
        "id": "pV1TP5MNWevg",
        "outputId": "2b9a3c45-bb27-452f-9883-1abadbd823bc"
      },
      "source": [
        "from urllib.request import urlretrieve\n",
        "url= \"https://github.com/Elwing-Chou/tibaml0922/raw/main/poem_train.csv\"\n",
        "urlretrieve(url, \"train.csv\")\n",
        "url=\"https://github.com/Elwing-Chou/tibaml0922/raw/main/poem_test.csv\"\n",
        "urlretrieve(url, \"test.csv\")"
      ],
      "execution_count": 1,
      "outputs": [
        {
          "output_type": "execute_result",
          "data": {
            "text/plain": [
              "('test.csv', <http.client.HTTPMessage at 0x7f2670395cd0>)"
            ]
          },
          "metadata": {},
          "execution_count": 1
        }
      ]
    },
    {
      "cell_type": "code",
      "metadata": {
        "id": "Xj3zwa7hW9mb"
      },
      "source": [
        "import pandas as pd\n",
        "train_df = pd.read_csv(\"train.csv\",encoding = \"utf-8\")\n",
        "test_df = pd.read_csv(\"test.csv\",encoding = \"utf-8\")"
      ],
      "execution_count": 3,
      "outputs": []
    },
    {
      "cell_type": "code",
      "metadata": {
        "colab": {
          "base_uri": "https://localhost:8080/"
        },
        "id": "LklNJE89XbFd",
        "outputId": "7af467ab-1544-455e-8633-44af028346dc"
      },
      "source": [
        "import numpy as np\n",
        "# y: 0, 1, 2...\n",
        "# Series.replace({\"李白\":0, ...})\n",
        "# Series.unique()/Series.value_counts()\n",
        "artists = train_df[\"作者\"].unique()\n",
        "# artist2idx = {}\n",
        "# for i, a in enumerate(artists):\n",
        "#    artist2idx[a] = i\n",
        "artist2idx = {a:i for i, a in enumerate(artists)}\n",
        "idx2artist = {i:a for i, a in enumerate(artists)}\n",
        "y_train = np.array(train_df[\"作者\"].replace(artist2idx))\n",
        "y_test = np.array(test_df[\"作者\"].replace(artist2idx))\n",
        "y_test"
      ],
      "execution_count": 13,
      "outputs": [
        {
          "output_type": "execute_result",
          "data": {
            "text/plain": [
              "array([0, 0, 0, 0, 0, 0, 0, 0, 0, 0, 1, 1, 1, 1, 1, 1, 1, 1, 1, 1, 2, 2,\n",
              "       2, 2, 2, 2, 2, 2, 2, 2])"
            ]
          },
          "metadata": {},
          "execution_count": 13
        }
      ]
    },
    {
      "cell_type": "code",
      "metadata": {
        "colab": {
          "base_uri": "https://localhost:8080/"
        },
        "id": "juat6SB5nVlA",
        "outputId": "e7dd65dc-71a4-4bdf-d9b0-008cb5802cb2"
      },
      "source": [
        "# 物件導向: 自創一個你需要的型態\n",
        "# 型態: 1. attribute(屬性) p1.height\n",
        "#      2. method(專屬函式) \"abc\".replace(\"a\", \"b\")\n",
        "# __init__\n",
        "# https://docs.python.org/zh-tw/3/reference/datamodel.html#basic-customization\n",
        "class Person:\n",
        "    def __init__(self, h, w):\n",
        "        self.height = h\n",
        "        self.weight = w\n",
        "\n",
        "    def getbmi(self):\n",
        "        return self.weight / (self.height / 100) ** 2\n",
        "\n",
        "    def __str__(self):\n",
        "        return \"{}/{}\".format(self.height, self.weight)\n",
        "\n",
        "    def __eq__(self, other):\n",
        "        return self.height == other.height and self.weight == other.weight\n",
        "\n",
        "p1 = Person(175, 80)\n",
        "bmi = p1.getbmi()\n",
        "p2 = Person(175, 80)\n",
        "# print -> str(p2) -> p2.__str__()\n",
        "print(p2)\n",
        "# p1 == p2 -> p1.__eq__(p2)\n",
        "p1 == p2"
      ],
      "execution_count": 14,
      "outputs": [
        {
          "output_type": "stream",
          "name": "stdout",
          "text": [
            "175/80\n"
          ]
        },
        {
          "output_type": "execute_result",
          "data": {
            "text/plain": [
              "True"
            ]
          },
          "metadata": {},
          "execution_count": 14
        }
      ]
    },
    {
      "cell_type": "code",
      "metadata": {
        "id": "wBMlaxaahifx"
      },
      "source": [
        ""
      ],
      "execution_count": null,
      "outputs": []
    },
    {
      "cell_type": "code",
      "metadata": {
        "colab": {
          "base_uri": "https://localhost:8080/"
        },
        "id": "t0ClZMYIxN2l",
        "outputId": "ab58225b-1217-4900-f1f6-3e43104fa0c7"
      },
      "source": [
        "# dic[\"height\"]\n",
        "# 函式也是一種型態:\n",
        "# 函式名字:dic (SOP) ():[] (執行)\n",
        "# 不加小括號: 跟int, str, list地位等價\n",
        "# 加小括號: 執行整份步驟\n",
        "b = int\n",
        "print(b(3.2))\n",
        "def test():\n",
        "    return int\n",
        "test()(3.2)"
      ],
      "execution_count": 15,
      "outputs": [
        {
          "output_type": "stream",
          "name": "stdout",
          "text": [
            "3\n"
          ]
        },
        {
          "output_type": "execute_result",
          "data": {
            "text/plain": [
              "3"
            ]
          },
          "metadata": {},
          "execution_count": 15
        }
      ]
    },
    {
      "cell_type": "code",
      "metadata": {
        "colab": {
          "base_uri": "https://localhost:8080/"
        },
        "id": "RNrEGOaoxQMc",
        "outputId": "b7e3db8a-83e5-43d2-f4dc-3903dfba5fe8"
      },
      "source": [
        "c = Person\n",
        "p3 = c(175, 75)\n",
        "p3.getbmi()"
      ],
      "execution_count": 16,
      "outputs": [
        {
          "output_type": "execute_result",
          "data": {
            "text/plain": [
              "24.489795918367346"
            ]
          },
          "metadata": {},
          "execution_count": 16
        }
      ]
    }
  ]
}